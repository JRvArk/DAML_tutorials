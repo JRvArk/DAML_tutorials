{
 "cells": [
  {
   "cell_type": "markdown",
   "metadata": {},
   "source": [
    "## 1.3"
   ]
  },
  {
   "cell_type": "code",
   "execution_count": null,
   "metadata": {},
   "outputs": [],
   "source": [
    "import numpy as np\n",
    "\n",
    "def hilbert_matrix(n):\n",
    "    # make Hilbert matrix of size n x n\n",
    "    A = np.zeros((n, n))\n",
    "    for i in range(n):\n",
    "        for j in range(n):\n",
    "            A[i, j] = 1 / (i + j + 1)\n",
    "    return A\n",
    "\n",
    "n = 10\n",
    "A = hilbert_matrix(n)\n",
    "b = np.ones(n)\n",
    "A_inv = np.linalg.inv(A)\n",
    "x = A_inv @ b\n",
    "print(A @ x)\n",
    "\n",
    "n = 15\n",
    "A = hilbert_matrix(n)\n",
    "b = np.ones(n)\n",
    "A_inv = np.linalg.inv(A)\n",
    "x = A_inv @ b\n",
    "print(A @ x)\n",
    "\n",
    "# This is the good way to solve A x = b\n",
    "x = np.linalg.solve(A, b)\n",
    "print(A @ x)"
   ]
  }
 ],
 "metadata": {
  "kernelspec": {
   "display_name": "base",
   "language": "python",
   "name": "python3"
  },
  "language_info": {
   "name": "python",
   "version": "3.11.5"
  }
 },
 "nbformat": 4,
 "nbformat_minor": 2
}
