{
 "cells": [
  {
   "cell_type": "markdown",
   "metadata": {},
   "source": [
    "## 1.3"
   ]
  },
  {
   "cell_type": "code",
   "execution_count": 1,
   "metadata": {},
   "outputs": [
    {
     "name": "stdout",
     "output_type": "stream",
     "text": [
      "[1.0000014  0.99993062 0.9999077  0.99990342 0.99990565 0.99991009\n",
      " 0.99991513 0.99992012 0.99992482 0.99992916]\n",
      "[0.75125618 2.35480879 2.13486194 1.88742509 1.70964974 1.58517534\n",
      " 1.49579566 1.42948088 1.37873092 1.33882078 1.30669276 1.28030777\n",
      " 1.25826596 1.23958018 1.22353726]\n",
      "[1.         1.         1.         1.         1.         1.\n",
      " 1.         1.         1.00000001 1.         1.         1.\n",
      " 1.         1.         1.        ]\n"
     ]
    }
   ],
   "source": [
    "import numpy as np\n",
    "\n",
    "def hilbert_matrix(n):\n",
    "    # make Hilbert matrix of size n x n\n",
    "    A = np.zeros((n, n))\n",
    "    for i in range(n):\n",
    "        for j in range(n):\n",
    "            A[i, j] = 1 / (i + j + 1)\n",
    "    return A\n",
    "\n",
    "n = 10\n",
    "A = hilbert_matrix(n)\n",
    "b = np.ones(n)\n",
    "A_inv = np.linalg.inv(A)\n",
    "x = A_inv @ b\n",
    "print(A @ x)\n",
    "\n",
    "n = 15\n",
    "A = hilbert_matrix(n)\n",
    "b = np.ones(n)\n",
    "A_inv = np.linalg.inv(A)\n",
    "x = A_inv @ b\n",
    "print(A @ x)\n",
    "\n",
    "# This is the good way to solve A x = b\n",
    "x = np.linalg.solve(A, b)\n",
    "print(A @ x)"
   ]
  }
 ],
 "metadata": {
  "kernelspec": {
   "display_name": "base",
   "language": "python",
   "name": "python3"
  },
  "language_info": {
   "codemirror_mode": {
    "name": "ipython",
    "version": 3
   },
   "file_extension": ".py",
   "mimetype": "text/x-python",
   "name": "python",
   "nbconvert_exporter": "python",
   "pygments_lexer": "ipython3",
   "version": "3.11.8"
  }
 },
 "nbformat": 4,
 "nbformat_minor": 2
}
