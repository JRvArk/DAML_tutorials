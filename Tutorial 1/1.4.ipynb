{
 "cells": [
  {
   "cell_type": "markdown",
   "metadata": {},
   "source": [
    "## 1.4"
   ]
  },
  {
   "cell_type": "code",
   "execution_count": 1,
   "metadata": {},
   "outputs": [],
   "source": [
    "import pandas as pd\n",
    "import matplotlib.pyplot as plt\n",
    "import seaborn as sns\n",
    "import numpy as np"
   ]
  },
  {
   "cell_type": "code",
   "execution_count": 2,
   "metadata": {},
   "outputs": [
    {
     "name": "stdout",
     "output_type": "stream",
     "text": [
      "\n",
      "mode                int64\tyear                int64\tacousticness        float64\t\n",
      "danceability        float64\tduration_ms         float64\tenergy              float64\t\n",
      "instrumentalness    float64\tliveness            float64\tloudness            float64\t\n",
      "speechiness         float64\ttempo               float64\tvalence             float64\t\n",
      "popularity          float64\tkey                 int64\t\n",
      "\n"
     ]
    }
   ],
   "source": [
    "odfs = pd.read_csv(\"data_by_year_o.csv\")\n",
    "for i, name in enumerate(odfs.columns):\n",
    "    if i % 3 == 0:\n",
    "        print()\n",
    "    print(f'{name:<20}{odfs[name].dtype}', end='\\t')\n",
    "print('\\n')"
   ]
  },
  {
   "cell_type": "code",
   "execution_count": 3,
   "metadata": {},
   "outputs": [],
   "source": [
    "dfs = odfs.drop(columns=['mode'])\n",
    "dfs['key'] = dfs['key'].astype('category')\n",
    "dfs['duration_min'] = dfs['duration_ms'] / 1_000 / 60\n",
    "dfs.drop(columns='duration_ms', inplace=True)"
   ]
  },
  {
   "cell_type": "code",
   "execution_count": 4,
   "metadata": {},
   "outputs": [
    {
     "data": {
      "text/html": [
       "<div>\n",
       "<style scoped>\n",
       "    .dataframe tbody tr th:only-of-type {\n",
       "        vertical-align: middle;\n",
       "    }\n",
       "\n",
       "    .dataframe tbody tr th {\n",
       "        vertical-align: top;\n",
       "    }\n",
       "\n",
       "    .dataframe thead th {\n",
       "        text-align: right;\n",
       "    }\n",
       "</style>\n",
       "<table border=\"1\" class=\"dataframe\">\n",
       "  <thead>\n",
       "    <tr style=\"text-align: right;\">\n",
       "      <th></th>\n",
       "      <th>mean</th>\n",
       "      <th>std</th>\n",
       "      <th>min</th>\n",
       "      <th>max</th>\n",
       "      <th>50%</th>\n",
       "    </tr>\n",
       "  </thead>\n",
       "  <tbody>\n",
       "    <tr>\n",
       "      <th>year</th>\n",
       "      <td>1970.500000</td>\n",
       "      <td>29.011492</td>\n",
       "      <td>1921.000000</td>\n",
       "      <td>2020.000000</td>\n",
       "      <td>1970.500000</td>\n",
       "    </tr>\n",
       "    <tr>\n",
       "      <th>acousticness</th>\n",
       "      <td>0.556317</td>\n",
       "      <td>0.275358</td>\n",
       "      <td>0.219931</td>\n",
       "      <td>0.962607</td>\n",
       "      <td>0.459190</td>\n",
       "    </tr>\n",
       "    <tr>\n",
       "      <th>danceability</th>\n",
       "      <td>0.536783</td>\n",
       "      <td>0.052356</td>\n",
       "      <td>0.414445</td>\n",
       "      <td>0.692904</td>\n",
       "      <td>0.540976</td>\n",
       "    </tr>\n",
       "    <tr>\n",
       "      <th>energy</th>\n",
       "      <td>0.452705</td>\n",
       "      <td>0.161738</td>\n",
       "      <td>0.207948</td>\n",
       "      <td>0.681778</td>\n",
       "      <td>0.495997</td>\n",
       "    </tr>\n",
       "    <tr>\n",
       "      <th>instrumentalness</th>\n",
       "      <td>0.193582</td>\n",
       "      <td>0.122488</td>\n",
       "      <td>0.016376</td>\n",
       "      <td>0.581701</td>\n",
       "      <td>0.127644</td>\n",
       "    </tr>\n",
       "    <tr>\n",
       "      <th>liveness</th>\n",
       "      <td>0.208224</td>\n",
       "      <td>0.017903</td>\n",
       "      <td>0.168450</td>\n",
       "      <td>0.264335</td>\n",
       "      <td>0.206074</td>\n",
       "    </tr>\n",
       "    <tr>\n",
       "      <th>loudness</th>\n",
       "      <td>-11.969054</td>\n",
       "      <td>3.105610</td>\n",
       "      <td>-19.275282</td>\n",
       "      <td>-6.595067</td>\n",
       "      <td>-11.773061</td>\n",
       "    </tr>\n",
       "    <tr>\n",
       "      <th>speechiness</th>\n",
       "      <td>0.105861</td>\n",
       "      <td>0.082128</td>\n",
       "      <td>0.049098</td>\n",
       "      <td>0.490001</td>\n",
       "      <td>0.085763</td>\n",
       "    </tr>\n",
       "    <tr>\n",
       "      <th>tempo</th>\n",
       "      <td>116.015674</td>\n",
       "      <td>5.669645</td>\n",
       "      <td>100.884521</td>\n",
       "      <td>124.283129</td>\n",
       "      <td>117.455548</td>\n",
       "    </tr>\n",
       "    <tr>\n",
       "      <th>valence</th>\n",
       "      <td>0.532120</td>\n",
       "      <td>0.057809</td>\n",
       "      <td>0.379327</td>\n",
       "      <td>0.663725</td>\n",
       "      <td>0.541503</td>\n",
       "    </tr>\n",
       "    <tr>\n",
       "      <th>popularity</th>\n",
       "      <td>27.376065</td>\n",
       "      <td>20.703197</td>\n",
       "      <td>0.140845</td>\n",
       "      <td>65.256542</td>\n",
       "      <td>33.619250</td>\n",
       "    </tr>\n",
       "    <tr>\n",
       "      <th>duration_min</th>\n",
       "      <td>3.788279</td>\n",
       "      <td>0.427167</td>\n",
       "      <td>2.614694</td>\n",
       "      <td>4.461297</td>\n",
       "      <td>3.925348</td>\n",
       "    </tr>\n",
       "  </tbody>\n",
       "</table>\n",
       "</div>"
      ],
      "text/plain": [
       "                         mean        std          min          max  \\\n",
       "year              1970.500000  29.011492  1921.000000  2020.000000   \n",
       "acousticness         0.556317   0.275358     0.219931     0.962607   \n",
       "danceability         0.536783   0.052356     0.414445     0.692904   \n",
       "energy               0.452705   0.161738     0.207948     0.681778   \n",
       "instrumentalness     0.193582   0.122488     0.016376     0.581701   \n",
       "liveness             0.208224   0.017903     0.168450     0.264335   \n",
       "loudness           -11.969054   3.105610   -19.275282    -6.595067   \n",
       "speechiness          0.105861   0.082128     0.049098     0.490001   \n",
       "tempo              116.015674   5.669645   100.884521   124.283129   \n",
       "valence              0.532120   0.057809     0.379327     0.663725   \n",
       "popularity          27.376065  20.703197     0.140845    65.256542   \n",
       "duration_min         3.788279   0.427167     2.614694     4.461297   \n",
       "\n",
       "                          50%  \n",
       "year              1970.500000  \n",
       "acousticness         0.459190  \n",
       "danceability         0.540976  \n",
       "energy               0.495997  \n",
       "instrumentalness     0.127644  \n",
       "liveness             0.206074  \n",
       "loudness           -11.773061  \n",
       "speechiness          0.085763  \n",
       "tempo              117.455548  \n",
       "valence              0.541503  \n",
       "popularity          33.619250  \n",
       "duration_min         3.925348  "
      ]
     },
     "execution_count": 4,
     "metadata": {},
     "output_type": "execute_result"
    }
   ],
   "source": [
    "dfs.describe().loc[['mean', 'std', 'min', 'max', '50%']].T"
   ]
  },
  {
   "cell_type": "code",
   "execution_count": 5,
   "metadata": {},
   "outputs": [
    {
     "name": "stdout",
     "output_type": "stream",
     "text": [
      "\n",
      "track_id            object\tartists             object\talbum_name          object\t\n",
      "track_name          object\tpopularity          int64\tduration_ms         int64\t\n",
      "explicit            bool\tdanceability        float64\tenergy              float64\t\n",
      "key                 int64\tloudness            float64\tmode                int64\t\n",
      "speechiness         float64\tacousticness        float64\tinstrumentalness    float64\t\n",
      "liveness            float64\tvalence             float64\ttempo               float64\t\n",
      "time_signature      int64\ttrack_genre         object\t\n",
      "\n"
     ]
    }
   ],
   "source": [
    "odfl = pd.read_csv(\"dataset.csv.zip\", index_col=0)\n",
    "\n",
    "for i, name in enumerate(odfl.columns):\n",
    "    if i % 3 == 0:\n",
    "        print()\n",
    "    print(f'{name:<20}{odfl[name].dtype}', end='\\t')\n",
    "print('\\n')"
   ]
  },
  {
   "cell_type": "code",
   "execution_count": 6,
   "metadata": {},
   "outputs": [],
   "source": [
    "dfl = odfl.drop(columns=['track_id'])\n",
    "dfl['key'] = dfl['key'].astype('category')\n",
    "dfl['duration_min'] = dfl['duration_ms'] / 1_000 / 60\n",
    "dfl.drop(columns='duration_ms', inplace=True)"
   ]
  },
  {
   "cell_type": "code",
   "execution_count": 7,
   "metadata": {},
   "outputs": [
    {
     "data": {
      "text/html": [
       "<div>\n",
       "<style scoped>\n",
       "    .dataframe tbody tr th:only-of-type {\n",
       "        vertical-align: middle;\n",
       "    }\n",
       "\n",
       "    .dataframe tbody tr th {\n",
       "        vertical-align: top;\n",
       "    }\n",
       "\n",
       "    .dataframe thead th {\n",
       "        text-align: right;\n",
       "    }\n",
       "</style>\n",
       "<table border=\"1\" class=\"dataframe\">\n",
       "  <thead>\n",
       "    <tr style=\"text-align: right;\">\n",
       "      <th></th>\n",
       "      <th>mean</th>\n",
       "      <th>std</th>\n",
       "      <th>min</th>\n",
       "      <th>max</th>\n",
       "      <th>50%</th>\n",
       "    </tr>\n",
       "  </thead>\n",
       "  <tbody>\n",
       "    <tr>\n",
       "      <th>popularity</th>\n",
       "      <td>33.238535</td>\n",
       "      <td>22.305078</td>\n",
       "      <td>0.000</td>\n",
       "      <td>100.00000</td>\n",
       "      <td>35.000000</td>\n",
       "    </tr>\n",
       "    <tr>\n",
       "      <th>danceability</th>\n",
       "      <td>0.566800</td>\n",
       "      <td>0.173542</td>\n",
       "      <td>0.000</td>\n",
       "      <td>0.98500</td>\n",
       "      <td>0.580000</td>\n",
       "    </tr>\n",
       "    <tr>\n",
       "      <th>energy</th>\n",
       "      <td>0.641383</td>\n",
       "      <td>0.251529</td>\n",
       "      <td>0.000</td>\n",
       "      <td>1.00000</td>\n",
       "      <td>0.685000</td>\n",
       "    </tr>\n",
       "    <tr>\n",
       "      <th>loudness</th>\n",
       "      <td>-8.258960</td>\n",
       "      <td>5.029337</td>\n",
       "      <td>-49.531</td>\n",
       "      <td>4.53200</td>\n",
       "      <td>-7.004000</td>\n",
       "    </tr>\n",
       "    <tr>\n",
       "      <th>mode</th>\n",
       "      <td>0.637553</td>\n",
       "      <td>0.480709</td>\n",
       "      <td>0.000</td>\n",
       "      <td>1.00000</td>\n",
       "      <td>1.000000</td>\n",
       "    </tr>\n",
       "    <tr>\n",
       "      <th>speechiness</th>\n",
       "      <td>0.084652</td>\n",
       "      <td>0.105732</td>\n",
       "      <td>0.000</td>\n",
       "      <td>0.96500</td>\n",
       "      <td>0.048900</td>\n",
       "    </tr>\n",
       "    <tr>\n",
       "      <th>acousticness</th>\n",
       "      <td>0.314910</td>\n",
       "      <td>0.332523</td>\n",
       "      <td>0.000</td>\n",
       "      <td>0.99600</td>\n",
       "      <td>0.169000</td>\n",
       "    </tr>\n",
       "    <tr>\n",
       "      <th>instrumentalness</th>\n",
       "      <td>0.156050</td>\n",
       "      <td>0.309555</td>\n",
       "      <td>0.000</td>\n",
       "      <td>1.00000</td>\n",
       "      <td>0.000042</td>\n",
       "    </tr>\n",
       "    <tr>\n",
       "      <th>liveness</th>\n",
       "      <td>0.213553</td>\n",
       "      <td>0.190378</td>\n",
       "      <td>0.000</td>\n",
       "      <td>1.00000</td>\n",
       "      <td>0.132000</td>\n",
       "    </tr>\n",
       "    <tr>\n",
       "      <th>valence</th>\n",
       "      <td>0.474068</td>\n",
       "      <td>0.259261</td>\n",
       "      <td>0.000</td>\n",
       "      <td>0.99500</td>\n",
       "      <td>0.464000</td>\n",
       "    </tr>\n",
       "    <tr>\n",
       "      <th>tempo</th>\n",
       "      <td>122.147837</td>\n",
       "      <td>29.978197</td>\n",
       "      <td>0.000</td>\n",
       "      <td>243.37200</td>\n",
       "      <td>122.017000</td>\n",
       "    </tr>\n",
       "    <tr>\n",
       "      <th>time_signature</th>\n",
       "      <td>3.904035</td>\n",
       "      <td>0.432621</td>\n",
       "      <td>0.000</td>\n",
       "      <td>5.00000</td>\n",
       "      <td>4.000000</td>\n",
       "    </tr>\n",
       "    <tr>\n",
       "      <th>duration_min</th>\n",
       "      <td>3.800486</td>\n",
       "      <td>1.788295</td>\n",
       "      <td>0.000</td>\n",
       "      <td>87.28825</td>\n",
       "      <td>3.548433</td>\n",
       "    </tr>\n",
       "  </tbody>\n",
       "</table>\n",
       "</div>"
      ],
      "text/plain": [
       "                        mean        std     min        max         50%\n",
       "popularity         33.238535  22.305078   0.000  100.00000   35.000000\n",
       "danceability        0.566800   0.173542   0.000    0.98500    0.580000\n",
       "energy              0.641383   0.251529   0.000    1.00000    0.685000\n",
       "loudness           -8.258960   5.029337 -49.531    4.53200   -7.004000\n",
       "mode                0.637553   0.480709   0.000    1.00000    1.000000\n",
       "speechiness         0.084652   0.105732   0.000    0.96500    0.048900\n",
       "acousticness        0.314910   0.332523   0.000    0.99600    0.169000\n",
       "instrumentalness    0.156050   0.309555   0.000    1.00000    0.000042\n",
       "liveness            0.213553   0.190378   0.000    1.00000    0.132000\n",
       "valence             0.474068   0.259261   0.000    0.99500    0.464000\n",
       "tempo             122.147837  29.978197   0.000  243.37200  122.017000\n",
       "time_signature      3.904035   0.432621   0.000    5.00000    4.000000\n",
       "duration_min        3.800486   1.788295   0.000   87.28825    3.548433"
      ]
     },
     "execution_count": 7,
     "metadata": {},
     "output_type": "execute_result"
    }
   ],
   "source": [
    "dfl.describe().loc[['mean', 'std', 'min', 'max', '50%']].T"
   ]
  },
  {
   "cell_type": "code",
   "execution_count": 8,
   "metadata": {},
   "outputs": [
    {
     "name": "stdout",
     "output_type": "stream",
     "text": [
      "intercept: -329.8514, coefficient: 3.0791\n"
     ]
    }
   ],
   "source": [
    "from sklearn.linear_model import LinearRegression\n",
    "\n",
    "m1 = LinearRegression().fit(dfs[['tempo']], dfs['popularity'])\n",
    "print(f\"intercept: {m1.intercept_:.4f}, coefficient: {m1.coef_[0]:.4f}\")"
   ]
  },
  {
   "cell_type": "code",
   "execution_count": 9,
   "metadata": {},
   "outputs": [
    {
     "name": "stdout",
     "output_type": "stream",
     "text": [
      "intercept: 32.0385, coefficient: 0.0098\n"
     ]
    }
   ],
   "source": [
    "m1 = LinearRegression().fit(dfl[['tempo']], dfl['popularity'])\n",
    "print(f\"intercept: {m1.intercept_:.4f}, coefficient: {m1.coef_[0]:.4f}\")"
   ]
  },
  {
   "cell_type": "code",
   "execution_count": 10,
   "metadata": {},
   "outputs": [
    {
     "name": "stdout",
     "output_type": "stream",
     "text": [
      "Correlation tempo/popularity Small Dataset\n",
      "               tempo  popularity\n",
      "tempo       1.000000    0.843231\n",
      "popularity  0.843231    1.000000\n",
      "\n",
      "Correlation tempo/popularity Large Dataset\n",
      "               tempo  popularity\n",
      "tempo       1.000000    0.013205\n",
      "popularity  0.013205    1.000000\n"
     ]
    }
   ],
   "source": [
    "print(\"Correlation tempo/popularity Small Dataset\")\n",
    "print(dfs[['tempo', 'popularity']].corr(), end='\\n\\n')\n",
    "print(\"Correlation tempo/popularity Large Dataset\")\n",
    "print(dfl[['tempo', 'popularity']].corr())"
   ]
  }
 ],
 "metadata": {
  "kernelspec": {
   "display_name": "base",
   "language": "python",
   "name": "python3"
  },
  "language_info": {
   "codemirror_mode": {
    "name": "ipython",
    "version": 3
   },
   "file_extension": ".py",
   "mimetype": "text/x-python",
   "name": "python",
   "nbconvert_exporter": "python",
   "pygments_lexer": "ipython3",
   "version": "3.11.8"
  }
 },
 "nbformat": 4,
 "nbformat_minor": 2
}
