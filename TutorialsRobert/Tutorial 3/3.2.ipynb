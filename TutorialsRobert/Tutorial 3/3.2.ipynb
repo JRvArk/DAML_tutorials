{
 "cells": [
  {
   "cell_type": "markdown",
   "metadata": {},
   "source": [
    "### 3.2"
   ]
  },
  {
   "cell_type": "code",
   "execution_count": 63,
   "metadata": {},
   "outputs": [],
   "source": [
    "import osmium\n",
    "\n",
    "class BoundaryHandler(osmium.SimpleHandler):\n",
    "    def __init__(self):\n",
    "        super().__init__()\n",
    "        self.nodes = []\n",
    "\n",
    "    def node(self, n):\n",
    "        self.nodes.append((n.location.lat, n.location.lon))\n",
    "\n",
    "handler = BoundaryHandler()\n",
    "handler.apply_file(\"groningen-boundary.osm\")\n",
    "nodes = handler.nodes"
   ]
  },
  {
   "cell_type": "code",
   "execution_count": 64,
   "metadata": {},
   "outputs": [],
   "source": [
    "import numpy as np\n",
    "\n",
    "latitudes = [node[0] for node in nodes]\n",
    "longitudes = [node[1] for node in nodes]\n",
    "\n",
    "center_lat = np.mean(latitudes)\n",
    "center_lon = np.mean(longitudes)"
   ]
  },
  {
   "cell_type": "code",
   "execution_count": 65,
   "metadata": {},
   "outputs": [],
   "source": [
    "import folium\n",
    "\n",
    "# Create a map centered at the calculated center\n",
    "map_center = [center_lat, center_lon]\n",
    "m = folium.Map(location=map_center, zoom_start=10)\n",
    "\n",
    "# Add the boundary as a polyline\n",
    "folium.PolyLine(nodes, color=\"blue\", weight=2.5, opacity=1).add_to(m)\n",
    "m.save(\"groningen_boundary_map.html\")"
   ]
  },
  {
   "cell_type": "code",
   "execution_count": null,
   "metadata": {},
   "outputs": [],
   "source": [
    "import networkx as nx\n",
    "import folium\n",
    "from geopy.distance import geodesic\n",
    "\n",
    "# Initialize graph and add nodes with edges based on proximity\n",
    "G = nx.Graph()\n",
    "for i, node_a in enumerate(nodes):\n",
    "    for j, node_b in enumerate(nodes):\n",
    "        if i < j:  # Avoid duplicate edges\n",
    "            distance = geodesic(node_a, node_b).meters\n",
    "            G.add_edge(i, j, weight=distance)\n",
    "\n",
    "# Start from the first node\n",
    "visited = {0}\n",
    "boundary_path = [nodes[0]]\n",
    "current_node = nodes[0]\n",
    "\n",
    "# Nearest neighbor traversal\n",
    "while len(visited) < len(nodes):\n",
    "    # Find the nearest unvisited node\n",
    "    nearest_node = None\n",
    "    nearest_distance = float('inf')\n",
    "    \n",
    "    for i in range(len(nodes)):\n",
    "        if i not in visited:\n",
    "            distance = geodesic(current_node, nodes[i]).meters\n",
    "            if distance < nearest_distance:\n",
    "                nearest_distance = distance\n",
    "                nearest_node = i\n",
    "    \n",
    "    # Move to the nearest node\n",
    "    boundary_path.append(nodes[nearest_node])\n",
    "    visited.add(nearest_node)\n",
    "    current_node = nodes[nearest_node]\n",
    "\n",
    "# Create the map and plot the ordered boundary path\n",
    "map_center = [center_lat, center_lon]\n",
    "m = folium.Map(location=map_center, zoom_start=10)\n",
    "folium.PolyLine(boundary_path, color=\"blue\", weight=2.5, opacity=1).add_to(m)\n",
    "\n",
    "# Save the map\n",
    "m.save(\"groningen_nearest_neighbor_boundary.html\")"
   ]
  },
  {
   "cell_type": "code",
   "execution_count": 57,
   "metadata": {},
   "outputs": [
    {
     "name": "stdout",
     "output_type": "stream",
     "text": [
      "Total boundary length: 5799.16 km\n"
     ]
    }
   ],
   "source": [
    "from geopy.distance import geodesic\n",
    "\n",
    "total_length = sum(geodesic(nodes[i], nodes[i + 1]).km for i in range(len(nodes) - 1))\n",
    "print(f\"Total boundary length: {total_length:.2f} km\")"
   ]
  },
  {
   "cell_type": "markdown",
   "metadata": {},
   "source": [
    "### 3.2.3"
   ]
  },
  {
   "cell_type": "code",
   "execution_count": 58,
   "metadata": {},
   "outputs": [],
   "source": [
    "## IN DOC 1.2 in tutorial 1 folder"
   ]
  }
 ],
 "metadata": {
  "kernelspec": {
   "display_name": "base",
   "language": "python",
   "name": "python3"
  },
  "language_info": {
   "codemirror_mode": {
    "name": "ipython",
    "version": 3
   },
   "file_extension": ".py",
   "mimetype": "text/x-python",
   "name": "python",
   "nbconvert_exporter": "python",
   "pygments_lexer": "ipython3",
   "version": "3.11.5"
  }
 },
 "nbformat": 4,
 "nbformat_minor": 2
}
