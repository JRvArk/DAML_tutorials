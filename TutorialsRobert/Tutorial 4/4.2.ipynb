{
 "cells": [
  {
   "cell_type": "markdown",
   "metadata": {},
   "source": [
    "### 4.2"
   ]
  },
  {
   "cell_type": "code",
   "execution_count": 4,
   "metadata": {},
   "outputs": [],
   "source": [
    "import osmium\n",
    "import folium\n",
    "\n",
    "import osmium\n",
    "\n",
    "class TrackHandler(osmium.SimpleHandler):\n",
    "    def __init__(self):\n",
    "        super().__init__()\n",
    "        self.tracks = []\n",
    "\n",
    "    def way(self, w):\n",
    "        # Check if the way is tagged as 'highway' and 'track'\n",
    "        if 'highway' in w.tags and w.tags['highway'] == 'track':\n",
    "            coords = []\n",
    "            for pt in w.nodes:\n",
    "                if pt.location.valid():  # Check if location is valid\n",
    "                    coords.append((pt.lat, pt.lon))\n",
    "            if coords:  # Only append if we have valid coordinates\n",
    "                self.tracks.append(coords)\n",
    "\n",
    "# Initialize the handler\n",
    "handler = TrackHandler()\n",
    "\n",
    "# Apply the handler to the OSM data file\n",
    "handler.apply_file(\"highways-groningen.pbf\")\n",
    "\n",
    "# Create a Folium map centered on Groningen\n",
    "m = folium.Map(location=[53.2, 6.6], zoom_start=12)\n",
    "\n",
    "# Plot the tracks on the map\n",
    "for track in handler.tracks:\n",
    "    folium.PolyLine(track, color=\"blue\", weight=2.5, opacity=1).add_to(m)\n",
    "\n",
    "# Save the map\n",
    "m.save(\"groningen_tracks_map.html\")"
   ]
  },
  {
   "cell_type": "code",
   "execution_count": 5,
   "metadata": {},
   "outputs": [],
   "source": [
    "\n",
    "class HighwayHandler(osmium.SimpleHandler):\n",
    "    def __init__(self):\n",
    "        super().__init__()\n",
    "        self.highways = []\n",
    "\n",
    "    def way(self, w):\n",
    "        # Check if the way is tagged as 'highway' and is one of the desired types\n",
    "        if 'highway' in w.tags and w.tags['highway'] in ['track', 'footpath', 'path']:\n",
    "            coords = []\n",
    "            for pt in w.nodes:\n",
    "                if pt.location.valid():  # Check if the location is valid\n",
    "                    coords.append((pt.lat, pt.lon))\n",
    "            if coords:  # Only append if we have valid coordinates\n",
    "                self.highways.append(coords)\n",
    "\n",
    "# Initialize the handler\n",
    "handler = HighwayHandler()\n",
    "\n",
    "# Apply the handler to the OSM data file\n",
    "handler.apply_file(\"highways-groningen.pbf\")\n",
    "\n",
    "# Create a Folium map centered on Groningen\n",
    "m = folium.Map(location=[53.2, 6.6], zoom_start=12)\n",
    "\n",
    "# Plot the highways on the map\n",
    "for highway in handler.highways:\n",
    "    folium.PolyLine(highway, color=\"blue\", weight=2.5, opacity=1).add_to(m)\n",
    "\n",
    "# Save the map\n",
    "m.save(\"groningen_highways_map.html\")"
   ]
  },
  {
   "cell_type": "code",
   "execution_count": 6,
   "metadata": {},
   "outputs": [],
   "source": [
    "class HikingFootHandler(osmium.SimpleHandler):\n",
    "    def __init__(self):\n",
    "        super().__init__()\n",
    "        self.routes = []\n",
    "\n",
    "    def way(self, w):\n",
    "        # Check if the way is tagged as 'highway' and is either 'hiking' or 'foot'\n",
    "        if 'highway' in w.tags and w.tags['highway'] in ['hiking', 'foot']:\n",
    "            coords = [(pt.lat, pt.lon) for pt in w.nodes]\n",
    "            self.routes.append(coords)\n",
    "\n",
    "# Initialize the handler\n",
    "hiking_handler = HikingFootHandler()\n",
    "\n",
    "# Apply the handler to the OSM data file\n",
    "hiking_handler.apply_file(\"hiking-foot-groningen.pbf\")\n",
    "\n",
    "# Create a Folium map centered on Groningen\n",
    "m = folium.Map(location=[53.2, 6.6], zoom_start=12)\n",
    "\n",
    "# Plot the hiking and foot routes on the map\n",
    "for route in hiking_handler.routes:\n",
    "    folium.PolyLine(route, color=\"green\", weight=2.5, opacity=1).add_to(m)\n",
    "\n",
    "# Save the map\n",
    "m.save(\"groningen_hiking_foot_routes_map.html\")"
   ]
  },
  {
   "cell_type": "markdown",
   "metadata": {},
   "source": [
    "### 4.2.3"
   ]
  },
  {
   "cell_type": "code",
   "execution_count": 7,
   "metadata": {},
   "outputs": [],
   "source": [
    "import folium\n",
    "\n",
    "# Define the coordinates\n",
    "leens_coords = [53.3615233, 6.3932052]\n",
    "gn_station_coords = [53.2113213, 6.5656461]\n",
    "\n",
    "# Create a Folium map centered on the midpoint of the two points\n",
    "map_center = [(leens_coords[0] + gn_station_coords[0]) / 2, (leens_coords[1] + gn_station_coords[1]) / 2]\n",
    "m = folium.Map(location=map_center, zoom_start=12)\n",
    "\n",
    "# Add markers for the start and end points\n",
    "folium.Marker(location=leens_coords, popup=\"Leens\").add_to(m)\n",
    "folium.Marker(location=gn_station_coords, popup=\"Groningen Station\").add_to(m)\n",
    "\n",
    "# Save the map\n",
    "m.save(\"leens_to_station_map.html\")"
   ]
  },
  {
   "cell_type": "code",
   "execution_count": 8,
   "metadata": {},
   "outputs": [
    {
     "ename": "NameError",
     "evalue": "name 'nodes' is not defined",
     "output_type": "error",
     "traceback": [
      "\u001b[0;31m---------------------------------------------------------------------------\u001b[0m",
      "\u001b[0;31mNameError\u001b[0m                                 Traceback (most recent call last)",
      "Cell \u001b[0;32mIn[8], line 9\u001b[0m\n\u001b[1;32m      3\u001b[0m \u001b[38;5;28;01mimport\u001b[39;00m \u001b[38;5;21;01mnetworkx\u001b[39;00m \u001b[38;5;28;01mas\u001b[39;00m \u001b[38;5;21;01mnx\u001b[39;00m\n\u001b[1;32m      5\u001b[0m \u001b[38;5;66;03m# Assume `nodes` is a list of tuples (latitude, longitude) for all nodes in your graph\u001b[39;00m\n\u001b[1;32m      6\u001b[0m \u001b[38;5;66;03m# Example: nodes = [(lat1, lon1), (lat2, lon2), ...]\u001b[39;00m\n\u001b[1;32m      7\u001b[0m \n\u001b[1;32m      8\u001b[0m \u001b[38;5;66;03m# Convert the nodes to a 2D array\u001b[39;00m\n\u001b[0;32m----> 9\u001b[0m nodes_array \u001b[38;5;241m=\u001b[39m np\u001b[38;5;241m.\u001b[39marray(nodes)\n\u001b[1;32m     11\u001b[0m \u001b[38;5;66;03m# Create the BallTree\u001b[39;00m\n\u001b[1;32m     12\u001b[0m tree \u001b[38;5;241m=\u001b[39m BallTree(nodes_array)\n",
      "\u001b[0;31mNameError\u001b[0m: name 'nodes' is not defined"
     ]
    }
   ],
   "source": [
    "import numpy as np\n",
    "from sklearn.neighbors import BallTree\n",
    "import networkx as nx\n",
    "\n",
    "# Assume `nodes` is a list of tuples (latitude, longitude) for all nodes in your graph\n",
    "# Example: nodes = [(lat1, lon1), (lat2, lon2), ...]\n",
    "\n",
    "# Convert the nodes to a 2D array\n",
    "nodes_array = np.array(nodes)\n",
    "\n",
    "# Create the BallTree\n",
    "tree = BallTree(nodes_array)\n",
    "\n",
    "# Query the nearest node for the start point\n",
    "start_node = tree.query(leens_coords, k=1)\n",
    "end_node = tree.query(gn_station_coords, k=1)\n",
    "\n",
    "# Get the indices of the nearest nodes\n",
    "nearest_start_index = start_node[1][0][0]\n",
    "nearest_end_index = end_node[1][0][0]\n",
    "\n",
    "# Get the coordinates of the nearest nodes\n",
    "nearest_start_coords = nodes_array[nearest_start_index]\n",
    "nearest_end_coords = nodes_array[nearest_end_index]\n",
    "\n",
    "print(\"Nearest start node coordinates:\", nearest_start_coords)\n",
    "print(\"Nearest end node coordinates:\", nearest_end_coords)"
   ]
  },
  {
   "cell_type": "code",
   "execution_count": null,
   "metadata": {},
   "outputs": [],
   "source": [
    "# Initialize the graph\n",
    "G = nx.Graph()\n",
    "\n",
    "# Example data structure for routes (should contain your actual routes)\n",
    "# routes = [(node1_index, node2_index, {'length': distance}), ...]\n",
    "\n",
    "for route in routes:\n",
    "    node1_index, node2_index, length = route  # Assuming 'length' is calculated\n",
    "    G.add_edge(node1_index, node2_index, weight=length)"
   ]
  },
  {
   "cell_type": "code",
   "execution_count": null,
   "metadata": {},
   "outputs": [],
   "source": [
    "# Compute the shortest path\n",
    "shortest_path = nx.shortest_path(G, source=nearest_start_index, target=nearest_end_index, weight='weight')\n",
    "\n",
    "# Get the length of the shortest path\n",
    "shortest_path_length = nx.shortest_path_length(G, source=nearest_start_index, target=nearest_end_index, weight='weight')\n",
    "\n",
    "print(\"Shortest path:\", shortest_path)\n",
    "print(\"Length of the shortest path (in meters):\", shortest_path_length)"
   ]
  },
  {
   "cell_type": "code",
   "execution_count": null,
   "metadata": {},
   "outputs": [],
   "source": [
    "# Create a new Folium map for visualization\n",
    "m = folium.Map(location=map_center, zoom_start=12)\n",
    "\n",
    "# Plot the start and end points\n",
    "folium.Marker(location=leens_coords, popup=\"Leens\").add_to(m)\n",
    "folium.Marker(location=gn_station_coords, popup=\"Groningen Station\").add_to(m)\n",
    "\n",
    "# Plot the shortest path\n",
    "path_coords = [nodes[i] for i in shortest_path]\n",
    "folium.PolyLine(locations=path_coords, color='green', weight=5, opacity=0.7).add_to(m)\n",
    "\n",
    "# Save the updated map\n",
    "m.save(\"shortest_path_map.html\")"
   ]
  },
  {
   "cell_type": "code",
   "execution_count": null,
   "metadata": {},
   "outputs": [],
   "source": [
    "print(\"Length of the shortest path (in meters):\", shortest_path_length)"
   ]
  }
 ],
 "metadata": {
  "kernelspec": {
   "display_name": "base",
   "language": "python",
   "name": "python3"
  },
  "language_info": {
   "codemirror_mode": {
    "name": "ipython",
    "version": 3
   },
   "file_extension": ".py",
   "mimetype": "text/x-python",
   "name": "python",
   "nbconvert_exporter": "python",
   "pygments_lexer": "ipython3",
   "version": "3.11.5"
  }
 },
 "nbformat": 4,
 "nbformat_minor": 2
}
