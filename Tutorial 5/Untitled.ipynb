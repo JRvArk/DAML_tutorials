{
 "cells": [
  {
   "cell_type": "markdown",
   "id": "52afe4c0-6fb0-41fd-a484-b90f8c472c86",
   "metadata": {},
   "source": [
    "Filter to bridges within the city ring, with the help of chatGPT"
   ]
  },
  {
   "cell_type": "code",
   "execution_count": 41,
   "id": "6b8a2d9e-8db1-49f8-8fda-44cd5d7f5311",
   "metadata": {},
   "outputs": [],
   "source": [
    "import sqlite3\n",
    "\n",
    "conn = sqlite3.connect('bridgesII.sql')\n",
    "cursor = conn.cursor()\n",
    "\n",
    "cursor.execute('SELECT latitude, longitude FROM node')\n",
    "points = cursor.fetchall()\n",
    "\n",
    "conn.close()"
   ]
  },
  {
   "cell_type": "markdown",
   "id": "bc5c0baf-301e-4b90-ad6b-7ec31e19a1e2",
   "metadata": {},
   "source": [
    "We'll take the convex hull of the ring for simplicity"
   ]
  },
  {
   "cell_type": "code",
   "execution_count": 68,
   "id": "ea89d826-ba89-4849-916a-1a1db9e7f596",
   "metadata": {},
   "outputs": [
    {
     "data": {
      "image/svg+xml": [
       "<svg xmlns=\"http://www.w3.org/2000/svg\" xmlns:xlink=\"http://www.w3.org/1999/xlink\" width=\"100.0\" height=\"100.0\" viewBox=\"6.5227895920000005 53.196601492 0.1031807159999989 0.05754231600000281\" preserveAspectRatio=\"xMinYMin meet\"><g transform=\"matrix(1,0,0,-1,0,106.4507453)\"><path fill-rule=\"evenodd\" fill=\"#66cc99\" stroke=\"#555555\" stroke-width=\"0.002063614319999978\" opacity=\"0.6\" d=\"M 6.5535159,53.200423 L 6.5536713,53.200433 L 6.62138,53.2152751 L 6.6215466,53.2153214 L 6.6216583,53.2153666 L 6.6217312,53.2154003 L 6.6217955,53.2154326 L 6.6218677,53.2154802 L 6.6219335,53.2155277 L 6.621986,53.2155735 L 6.6220299,53.2156205 L 6.6220686,53.2156748 L 6.6221009,53.215729 L 6.6221228,53.2157854 L 6.6221488,53.2158998 L 6.6221453,53.2159642 L 6.6221298,53.2160278 L 6.6221047,53.2160952 L 6.6220752,53.216153 L 6.6220371,53.2162108 L 6.6084239,53.2316887 L 6.6080349,53.2321082 L 6.6076289,53.2324841 L 6.6072239,53.2328243 L 6.6069857,53.233003 L 6.6069301,53.2330447 L 6.6066529,53.2332424 L 6.6063977,53.233418 L 6.6061458,53.2335795 L 6.6055902,53.2339075 L 6.5802423,53.2475472 L 6.5798351,53.2477558 L 6.5794176,53.2479235 L 6.5792777,53.2479743 L 6.5764828,53.248944 L 6.5733371,53.2500354 L 6.5729203,53.2501775 L 6.5726688,53.2502522 L 6.5724251,53.2503023 L 6.5722385,53.2503223 L 6.5720437,53.250319 L 6.5717523,53.2502871 L 6.571564,53.2502462 L 6.5268105,53.2348086 L 6.5267557,53.2347826 L 6.5267081,53.234752 L 6.5266687,53.2347175 L 6.5266384,53.2346798 L 6.5266219,53.234646 L 6.5266128,53.2346113 L 6.5266111,53.2345762 L 6.5266175,53.2345395 L 6.526632,53.2345036 L 6.5266545,53.2344692 L 6.5408589,53.2143079 L 6.5414889,53.2134562 L 6.5417349,53.2131458 L 6.5418912,53.2129537 L 6.5529632,53.2006385 L 6.5530414,53.2005544 L 6.5531499,53.2004894 L 6.5533484,53.2004351 L 6.5535159,53.200423 z\" /></g></svg>"
      ],
      "text/plain": [
       "<POLYGON ((6.554 53.2, 6.554 53.2, 6.621 53.215, 6.622 53.215, 6.622 53.215,...>"
      ]
     },
     "execution_count": 68,
     "metadata": {},
     "output_type": "execute_result"
    }
   ],
   "source": [
    "import osmium\n",
    "from shapely.geometry import Polygon\n",
    "from scipy.spatial import ConvexHull\n",
    "import numpy as np\n",
    "\n",
    "class CityRingHandler(osmium.SimpleHandler):\n",
    "    def __init__(self):\n",
    "        super().__init__()\n",
    "        self.city_ring_ways = []\n",
    "\n",
    "    def relation(self, r):\n",
    "        if r.id == 13281314:\n",
    "            self.city_ring_ways.extend(w.ref for w in r.members if w.type=='w')\n",
    "\n",
    "handler = CityRingHandler()\n",
    "handler.apply_file('groningen_city.pbf')\n",
    "\n",
    "refs = set(handler.city_ring_ways)\n",
    "\n",
    "class RingWayHandler(osmium.SimpleHandler):\n",
    "    def __init__(self):\n",
    "        super().__init__()\n",
    "        self.locations = []\n",
    "\n",
    "    def way(self, w):\n",
    "        if w.id in refs:\n",
    "            self.locations.extend([(n.lon, n.lat) for n in w.nodes])\n",
    "\n",
    "handler = RingWayHandler()\n",
    "handler.apply_file('groningen_city.pbf')\n",
    "\n",
    "ring_nodes = np.array(handler.locations)\n",
    "hull = ConvexHull(handler.locations)\n",
    "hull_points = ring_nodes[hull.vertices]\n",
    "ring = Polygon(hull_points)\n",
    "ring"
   ]
  },
  {
   "cell_type": "code",
   "execution_count": 61,
   "id": "ac376a5d-6a3a-48d6-9647-49f5b90af3ac",
   "metadata": {},
   "outputs": [
    {
     "data": {
      "text/plain": [
       "0"
      ]
     },
     "execution_count": 61,
     "metadata": {},
     "output_type": "execute_result"
    }
   ],
   "source": [
    "from shapely.geometry import Point\n",
    "\n",
    "def filter_bridges_in_city_ring(points, city_ring_polygon):\n",
    "    bridges_in_ring = []\n",
    "    for lat, lon in points:\n",
    "        point = Point(lon, lat)\n",
    "        if cityfrom shapely.geometry import Point\n",
    "\n",
    "def filter_bridges_in_city_ring(points, city_ring_polygon):\n",
    "    bridges_in_ring = []\n",
    "    for lon, lat in points:\n",
    "        point = Point(lon, lat)\n",
    "        if city_ring_polygon.contains(point):\n",
    "            bridges_in_ring.append((lon, lat))\n",
    "    return bridges_in_ring\n",
    "\n",
    "# Usage example\n",
    "points = [...]  # Replace with your list of bridge coordinates\n",
    "bridges_within_city_ring = filter_bridges_in_city_ring(points, city_ring_polygon)\n",
    "BBH_ring_polygon.contains(point):\n",
    "            bridges_in_ring.append((lon, lat))\n",
    "    return bridges_in_ring\n",
    "\n",
    "bridges_within_city_ring = filter_bridges_in_city_ring(points, city_ring_polygon)\n",
    "len(bridges_within_city_ring)"
   ]
  },
  {
   "cell_type": "code",
   "execution_count": 65,
   "id": "69ae71b0-eca4-40c5-8022-ebee243ad897",
   "metadata": {},
   "outputs": [
    {
     "data": {
      "text/plain": [
       "False"
      ]
     },
     "execution_count": 65,
     "metadata": {},
     "output_type": "execute_result"
    }
   ],
   "source": [
    "ring.contains_properly()"
   ]
  },
  {
   "cell_type": "markdown",
   "id": "18701647-42e2-4523-a0db-901a4068d737",
   "metadata": {},
   "source": [
    "class BoundaryHandler(osmium.SimpleHandler):\n",
    "    def __init__(self):\n",
    "        super().__init__()\n",
    "        self.ways = {}\n",
    "        self.relations = []\n",
    "\n",
    "    def way(self, w):\n",
    "        self.ways[w.id] = [(n.lat, n.lon) for n in w.nodes]\n",
    "\n",
    "    def relation(self, r):\n",
    "        if r.id == 13281314:\n",
    "            self.relations.extend([m.ref for m in r.members if m.type == 'w'])\n",
    "\n",
    "handler = BoundaryHandler()\n",
    "handler.apply_file(\"groningen_city.pbf\")\n",
    "\n",
    "def create_full_boundary(handler):\n",
    "    way_ref = handler.relations[0]\n",
    "    locs = handler.ways[way_ref]\n",
    "    full_boundary = locs[1:]\n",
    "    for way_ref in handler.relations[1:]:\n",
    "        locs = handler.ways[way_ref]\n",
    "        if locs[0] == full_boundary[-1]:\n",
    "            full_boundary.extend(locs[1:])\n",
    "        elif locs[-1] == full_boundary[-1]:\n",
    "            full_boundary.extend(locs[-2::-1])\n",
    "        else:\n",
    "            print(way_ref)\n",
    "            raise TypeError(\"This didn't work!\")\n",
    "    return full_boundary\n",
    "\n",
    "full_boundary = create_full_boundary(handler)\n"
   ]
  },
  {
   "cell_type": "code",
   "execution_count": null,
   "id": "86d4cb1b-870f-4e39-93de-2342b247ac7b",
   "metadata": {},
   "outputs": [],
   "source": [
    "\n",
    "def create_city_ring_polygon(city_ring_file):\n",
    "    handler = CityRingPolygonHandler()\n",
    "    handler.apply_file(city_ring_file)\n",
    "    \n",
    "    # Combine the ways to form a closed polygon (assuming they form a ring)\n",
    "    city_ring_line = LineString()\n",
    "    for way in handler.city_ring_ways:\n",
    "        city_ring_line = city_ring_line.union(way)\n",
    "    \n",
    "    # Create a buffer around the line to form a polygon if necessary\n",
    "    city_ring_polygon = city_ring_line.buffer(0.001).envelope  # Adjust buffer as needed\n",
    "    return city_ring_polygon\n",
    "\n",
    "# Usage\n",
    "city_ring_polygon = create_city_ring_polygon(\"city_ring.pbf\")\n",
    "city_ring_polygon"
   ]
  },
  {
   "cell_type": "code",
   "execution_count": 13,
   "id": "2693cdde-8d4b-4357-ba94-9b2178e0be91",
   "metadata": {},
   "outputs": [],
   "source": [
    "from shapely.geometry import Point\n",
    "\n",
    "def filter_bridges_in_city_ring(points, city_ring_polygon):\n",
    "    bridges_in_ring = []\n",
    "    for lat, lon in points:\n",
    "        point = Point(lon, lat)\n",
    "        if city_ring_polygon.contains(point):\n",
    "            bridges_in_ring.append((lon, lat))\n",
    "    return bridges_in_ring\n",
    "\n",
    "bridges_within_city_ring = filter_bridges_in_city_ring(points, city_ring_polygon)"
   ]
  },
  {
   "cell_type": "code",
   "execution_count": 14,
   "id": "c5dc09f9-995f-471b-acc7-29fa548fcd1d",
   "metadata": {},
   "outputs": [
    {
     "data": {
      "text/plain": [
       "[]"
      ]
     },
     "execution_count": 14,
     "metadata": {},
     "output_type": "execute_result"
    }
   ],
   "source": [
    "bridges_within_city_ring"
   ]
  },
  {
   "cell_type": "code",
   "execution_count": 4,
   "id": "eda3800c-5948-4789-a67b-3b09490015fd",
   "metadata": {},
   "outputs": [],
   "source": [
    "BridgeLoc = complex\n",
    "BridgeID = int\n",
    "bridgelocs = [BridgeLoc(p[0], p[1]) for p in points]\n",
    "bridges = {i: bridgelocs[i] for i in range(len(bridgelocs))}\n",
    "\n",
    "def metric1_locs(A: BridgeLoc, B: BridgeLoc):\n",
    "    return abs(A - B)\n",
    "\n",
    "def metric1(A: BridgeID, B: BridgeID):\n",
    "    return abs(bridges[A] - bridges[B])"
   ]
  },
  {
   "cell_type": "code",
   "execution_count": null,
   "id": "b702ff41-09ca-4f4c-8dec-a6ba41f99fbd",
   "metadata": {},
   "outputs": [],
   "source": [
    "import numpy as np\n",
    "\n",
    "np.empty(len(points), len(points))\n"
   ]
  }
 ],
 "metadata": {
  "kernelspec": {
   "display_name": "Python 3 (ipykernel)",
   "language": "python",
   "name": "python3"
  },
  "language_info": {
   "codemirror_mode": {
    "name": "ipython",
    "version": 3
   },
   "file_extension": ".py",
   "mimetype": "text/x-python",
   "name": "python",
   "nbconvert_exporter": "python",
   "pygments_lexer": "ipython3",
   "version": "3.12.7"
  }
 },
 "nbformat": 4,
 "nbformat_minor": 5
}
