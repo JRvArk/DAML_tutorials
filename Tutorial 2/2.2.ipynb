{
 "cells": [
  {
   "cell_type": "markdown",
   "metadata": {},
   "source": [
    "# 2.2 Plotting train stations and benches on a map\n",
    "\n",
    "## 2.2.1 OpenStreetMap\n",
    "\n",
    "There are some benches, footpaths, plots of grass. In the surroundings it shows residential areas, boundaries and other regions.\n",
    "\n",
    "There are points, lines, polygons and relations.\n",
    "\n",
    "Here is a nice bench: Location: 53.1822114, 6.5650417\n",
    "\n",
    "It even shows part of the \"Wandelnetwerk Groningen\", cool!\n",
    "\n",
    "## 2.2.2 Plotting the stations\n",
    "The osm file is an xml document/dataset with keywords/syntax specific to openstreetmaps"
   ]
  },
  {
   "cell_type": "code",
   "execution_count": 2,
   "metadata": {},
   "outputs": [],
   "source": [
    "import folium\n",
    "from folium.plugins import MarkerCluster\n",
    "from pyrosm import OSM\n",
    "import pandas as pd\n",
    "import geopandas as gpd"
   ]
  },
  {
   "cell_type": "code",
   "execution_count": 51,
   "metadata": {},
   "outputs": [],
   "source": [
    "# Load the data\n",
    "\n",
    "# Centered around groningen?\n",
    "minlat=52.837213\n",
    "minlon=6.166463\n",
    "maxlat=53.659729\n",
    "maxlon=7.450069\n",
    "\n",
    "osm = OSM('railway_data.osm.pbf') #, bounding_box=[minlon, minlat, maxlon, maxlat])\n",
    "\n",
    "# location = [(minlat+maxlat)/2, (minlon+maxlon)/2]\n",
    "# location = [53.2194, 6.5665] \n",
    "# location = [53.271088, 6.805415]\n",
    "location = [52.5143247,5.9418464]\n",
    "\n",
    "stations = osm.get_data_by_custom_criteria(\n",
    "    custom_filter={'railway': ['station']}, \n",
    "    extra_attributes=['name'],\n",
    "    keep_nodes=True,\n",
    "    keep_ways=False,\n",
    "    keep_relations=False\n",
    ")\n",
    "\n",
    "tracks = osm.get_data_by_custom_criteria(\n",
    "    custom_filter={'railway': ['rail']},\n",
    "    keep_nodes=False,\n",
    "    keep_ways=True,\n",
    "    keep_relations=False\n",
    ")\n",
    "\n",
    "\n",
    "m = folium.Map(location=location, zoom_start=8)\n",
    "\n",
    "marker_cluster = MarkerCluster().add_to(m)\n",
    "\n",
    "for idx, row in stations.iterrows():\n",
    "    icon = folium.Icon(icon='train', prefix='fa', color='orange')\n",
    "    name = row['name'] if row['name'] != None else 'No name'\n",
    "    popup = folium.Popup(name, max_width=len(name) * 10)\n",
    "    tooltip = folium.Tooltip(name)\n",
    "    folium.Marker(location=[row['lat'], row['lon']], popup=popup, \n",
    "                  tooltip=tooltip, icon=icon).add_to(marker_cluster)\n",
    "\n",
    "\n",
    "for idx, row in tracks.iterrows():\n",
    "    geom = row['geometry']\n",
    "    if geom.geom_type == 'LineString':\n",
    "        folium.PolyLine(locations=[(coord[1], coord[0]) for coord in geom.coords]).add_to(m)\n",
    "    elif geom.geom_type == 'MultiLineString':\n",
    "        for linestring in geom.geoms:\n",
    "            folium.PolyLine(locations=[(coord[1], coord[0]) for coord in linestring.coords]).add_to(m)\n",
    "\n",
    "\n",
    "m.save('nl_railway.html')"
   ]
  },
  {
   "cell_type": "markdown",
   "metadata": {},
   "source": [
    "Downloaded groningen-latest.oms.pbf and ran:\n",
    "```\n",
    "osmium tags-filter groningen-latest.osm.pbf n/amenity=bench -o groningen-benches.osm.pbf --overwrite\n",
    "```"
   ]
  },
  {
   "cell_type": "code",
   "execution_count": 19,
   "metadata": {},
   "outputs": [],
   "source": [
    "bench_locations = gpd.read_file('groningen-benches.osm.pbf', layer='points')['geometry']\n",
    "m = folium.Map(location=[53.2194, 6.5665], zoom_start=10)\n",
    "\n",
    "cluster = MarkerCluster().add_to(m)\n",
    "\n",
    "for point in bench_locations:\n",
    "    icon = folium.Icon(icon='chair', prefix='fa', color='green')\n",
    "    folium.Marker(location=(point.y, point.x), icon=icon).add_to(cluster)\n",
    "\n",
    "m.save('groningen_benches.html')"
   ]
  },
  {
   "cell_type": "code",
   "execution_count": 20,
   "metadata": {},
   "outputs": [],
   "source": [
    "from folium.plugins import HeatMap\n",
    "HeatMap(zip(bench_locations.y.values, bench_locations.x.values)).add_to(m)\n",
    "folium.LayerControl().add_to(folium.FeatureGroup(name='Heat Map').add_to(m))\n",
    "m.save('groningen_benches_heatmap.html')"
   ]
  }
 ],
 "metadata": {
  "kernelspec": {
   "display_name": "Python 3 (ipykernel)",
   "language": "python",
   "name": "python3"
  },
  "language_info": {
   "codemirror_mode": {
    "name": "ipython",
    "version": 3
   },
   "file_extension": ".py",
   "mimetype": "text/x-python",
   "name": "python",
   "nbconvert_exporter": "python",
   "pygments_lexer": "ipython3",
   "version": "3.12.7"
  }
 },
 "nbformat": 4,
 "nbformat_minor": 4
}
