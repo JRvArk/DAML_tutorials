{
 "cells": [
  {
   "cell_type": "code",
   "execution_count": 1,
   "id": "90dfdbfe-bdfe-4ea2-b1a3-59026393af81",
   "metadata": {},
   "outputs": [
    {
     "data": {
      "text/html": [
       "<div>\n",
       "<style scoped>\n",
       "    .dataframe tbody tr th:only-of-type {\n",
       "        vertical-align: middle;\n",
       "    }\n",
       "\n",
       "    .dataframe tbody tr th {\n",
       "        vertical-align: top;\n",
       "    }\n",
       "\n",
       "    .dataframe thead th {\n",
       "        text-align: right;\n",
       "    }\n",
       "</style>\n",
       "<table border=\"1\" class=\"dataframe\">\n",
       "  <thead>\n",
       "    <tr style=\"text-align: right;\">\n",
       "      <th></th>\n",
       "      <th>latitude</th>\n",
       "      <th>longitude</th>\n",
       "    </tr>\n",
       "    <tr>\n",
       "      <th>name</th>\n",
       "      <th></th>\n",
       "      <th></th>\n",
       "    </tr>\n",
       "  </thead>\n",
       "  <tbody>\n",
       "    <tr>\n",
       "      <th>Depot</th>\n",
       "      <td>53.197625</td>\n",
       "      <td>6.612788</td>\n",
       "    </tr>\n",
       "    <tr>\n",
       "      <th>1911-945</th>\n",
       "      <td>53.201780</td>\n",
       "      <td>6.560270</td>\n",
       "    </tr>\n",
       "    <tr>\n",
       "      <th>2488-933</th>\n",
       "      <td>53.223680</td>\n",
       "      <td>6.535580</td>\n",
       "    </tr>\n",
       "    <tr>\n",
       "      <th>1543-519</th>\n",
       "      <td>53.218840</td>\n",
       "      <td>6.555350</td>\n",
       "    </tr>\n",
       "    <tr>\n",
       "      <th>1116-116</th>\n",
       "      <td>53.234550</td>\n",
       "      <td>6.561640</td>\n",
       "    </tr>\n",
       "    <tr>\n",
       "      <th>...</th>\n",
       "      <td>...</td>\n",
       "      <td>...</td>\n",
       "    </tr>\n",
       "    <tr>\n",
       "      <th>1499-978</th>\n",
       "      <td>53.226690</td>\n",
       "      <td>6.581520</td>\n",
       "    </tr>\n",
       "    <tr>\n",
       "      <th>0001-1</th>\n",
       "      <td>53.197850</td>\n",
       "      <td>6.611830</td>\n",
       "    </tr>\n",
       "    <tr>\n",
       "      <th>1159-1369</th>\n",
       "      <td>53.208940</td>\n",
       "      <td>6.570050</td>\n",
       "    </tr>\n",
       "    <tr>\n",
       "      <th>2065-881</th>\n",
       "      <td>53.244790</td>\n",
       "      <td>6.578020</td>\n",
       "    </tr>\n",
       "    <tr>\n",
       "      <th>1334-368</th>\n",
       "      <td>53.196060</td>\n",
       "      <td>6.576260</td>\n",
       "    </tr>\n",
       "  </tbody>\n",
       "</table>\n",
       "<p>1121 rows × 2 columns</p>\n",
       "</div>"
      ],
      "text/plain": [
       "            latitude  longitude\n",
       "name                           \n",
       "Depot      53.197625   6.612788\n",
       "1911-945   53.201780   6.560270\n",
       "2488-933   53.223680   6.535580\n",
       "1543-519   53.218840   6.555350\n",
       "1116-116   53.234550   6.561640\n",
       "...              ...        ...\n",
       "1499-978   53.226690   6.581520\n",
       "0001-1     53.197850   6.611830\n",
       "1159-1369  53.208940   6.570050\n",
       "2065-881   53.244790   6.578020\n",
       "1334-368   53.196060   6.576260\n",
       "\n",
       "[1121 rows x 2 columns]"
      ]
     },
     "execution_count": 1,
     "metadata": {},
     "output_type": "execute_result"
    }
   ],
   "source": [
    "import sqlite3\n",
    "import pandas as pd\n",
    "\n",
    "db_path = '../Tutorial 1/waste_for_students.db'\n",
    "\n",
    "conn = sqlite3.connect(db_path)\n",
    "\n",
    "df = pd.read_sql(\"SELECT * FROM locations\", conn)\n",
    "df.set_index('name', inplace=True)\n",
    "df"
   ]
  },
  {
   "cell_type": "markdown",
   "id": "61b64228-6163-4edb-a3a4-7f39294f3a50",
   "metadata": {},
   "source": [
    "The depot is node (index) 0 as seen above"
   ]
  },
  {
   "cell_type": "code",
   "execution_count": 2,
   "id": "5492e74a-1851-477b-8bcd-50be85de87f1",
   "metadata": {},
   "outputs": [
    {
     "data": {
      "text/plain": [
       "5739.79193100201"
      ]
     },
     "execution_count": 2,
     "metadata": {},
     "output_type": "execute_result"
    }
   ],
   "source": [
    "from pyproj import Geod, CRS\n",
    "\n",
    "geod = CRS(\"EPSG:32632\").get_geod()\n",
    "\n",
    "def distance_to_depot(container_name):\n",
    "    lons = df.loc[['Depot', container_name], 'longitude'].to_list()\n",
    "    lats = df.loc[['Depot', container_name], 'latitude'].to_list()\n",
    "    return geod.line_length(lons, lats)\n",
    "\n",
    "distance_to_depot('2065-881')"
   ]
  },
  {
   "cell_type": "code",
   "execution_count": 3,
   "id": "53d42b8c-21ad-4af9-a294-7ec614572c2a",
   "metadata": {},
   "outputs": [],
   "source": [
    "import requests\n",
    "\n",
    "url = \"http://router.project-osrm.org\"\n",
    "\n",
    "def get_osrm_distance(start_name, end_name, osrm_url=\"http://router.project-osrm.org\"):\n",
    "    lat1, lon1 = df.loc[start_name]\n",
    "    lat2, lon2 = df.loc[end_name]\n",
    "    url = f\"{osrm_url}/route/v1/driving/{lon1},{lat1};{lon2},{lat2}\"\n",
    "    params = {\n",
    "        \"overview\": \"false\",\n",
    "        \"annotations\": \"distance\"\n",
    "    }\n",
    "    response = requests.get(url, params=params)\n",
    "    data = response.json()\n",
    "    if response.status_code == 200 and data[\"routes\"]:\n",
    "        return data[\"routes\"][0][\"distance\"]\n",
    "    else:\n",
    "        raise HTTPError(f\"Got {response.status_code}\")"
   ]
  },
  {
   "cell_type": "code",
   "execution_count": 4,
   "id": "30bc1ac8-5176-44e5-bdbf-12b9ad48d29e",
   "metadata": {},
   "outputs": [
    {
     "data": {
      "text/plain": [
       "9303"
      ]
     },
     "execution_count": 4,
     "metadata": {},
     "output_type": "execute_result"
    }
   ],
   "source": [
    "get_osrm_distance('Depot', '2065-881')\n"
   ]
  },
  {
   "cell_type": "markdown",
   "id": "21ad8795-4bf3-4dab-9ef6-1627d172e60f",
   "metadata": {},
   "source": [
    "Chat GPT says it takes one way streets into account"
   ]
  }
 ],
 "metadata": {
  "kernelspec": {
   "display_name": "Python 3 (ipykernel)",
   "language": "python",
   "name": "python3"
  },
  "language_info": {
   "codemirror_mode": {
    "name": "ipython",
    "version": 3
   },
   "file_extension": ".py",
   "mimetype": "text/x-python",
   "name": "python",
   "nbconvert_exporter": "python",
   "pygments_lexer": "ipython3",
   "version": "3.12.7"
  }
 },
 "nbformat": 4,
 "nbformat_minor": 5
}
